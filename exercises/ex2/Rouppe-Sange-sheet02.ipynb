{
 "cells": [
  {
   "cell_type": "markdown",
   "metadata": {},
   "source": [
    "# TSMAI sheet02 2025"
   ]
  },
  {
   "cell_type": "code",
   "execution_count": null,
   "metadata": {},
   "outputs": [],
   "source": [
    "import numpy as np\n",
    "import matplotlib.pyplot as plt\n",
    "import pandas as pd\n",
    "from sklearn.linear_model import LinearRegression\n",
    "import scipy.signal as sg\n",
    "import scipy.io"
   ]
  },
  {
   "cell_type": "markdown",
   "metadata": {},
   "source": [
    "## Task 1.1"
   ]
  },
  {
   "cell_type": "markdown",
   "metadata": {},
   "source": [
    "Auto Regressive time series of order p: \n",
    "\n",
    "$$\\text{AR}(p) : x_t = a_0 + \\sum_{i=1}^p a_i x_{t-i} + \\epsilon_t $$\n",
    "\n",
    "\n",
    "$$\n",
    "\\mathbf{v} = \\begin{pmatrix}\n",
    "v_1 \\\\\n",
    "v_2 \\\\\n",
    "\\vdots \\\\\n",
    "v_n\n",
    "\\end{pmatrix}\n",
    "$$\n",
    "\n",
    "$$\n",
    "\\mathbf{A} = \\begin{pmatrix}\n",
    "a_{11} & a_{12} & \\cdots & a_{1n} \\\\\n",
    "a_{21} & a_{22} & \\cdots & a_{2n} \\\\\n",
    "\\vdots & \\vdots & \\ddots & \\vdots \\\\\n",
    "a_{m1} & a_{m2} & \\cdots & a_{mn}\n",
    "\\end{pmatrix}\n",
    "$$"
   ]
  },
  {
   "cell_type": "markdown",
   "metadata": {},
   "source": [
    "## Task 2\n",
    "\n",
    "### Task 2.1"
   ]
  },
  {
   "cell_type": "code",
   "execution_count": null,
   "metadata": {},
   "outputs": [
    {
     "name": "stdout",
     "output_type": "stream",
     "text": [
      "dict_keys(['__header__', '__version__', '__globals__', 'DLPFC1', 'DLPFC2', 'Parietal1', 'Parietal2'])\n"
     ]
    }
   ],
   "source": [
    "data = scipy.io.loadmat('ex2file1.mat')\n",
    "print(data.keys())"
   ]
  },
  {
   "cell_type": "code",
   "execution_count": 17,
   "metadata": {},
   "outputs": [
    {
     "name": "stdout",
     "output_type": "stream",
     "text": [
      "      DLPFC1   DLPFC2  Parietal1  Parietal2\n",
      "0    2.28550 -0.29516   -3.03620   -4.51840\n",
      "1    0.85457 -2.63380   -4.52230   -1.90250\n",
      "2   -0.26151 -3.08110   -4.71460    0.47887\n",
      "3   -1.19410 -2.62330   -3.97540    1.92820\n",
      "4   -1.27900 -1.61420   -2.01040    3.77230\n",
      "..       ...      ...        ...        ...\n",
      "355 -2.13940 -2.24390   -0.60644   -4.15580\n",
      "356 -1.32430 -2.30090   -1.01920   -3.81420\n",
      "357 -1.62290 -3.47130   -2.59440   -4.29070\n",
      "358 -1.31880 -3.15880   -2.61050   -3.56520\n",
      "359 -0.51186 -2.72170   -2.49090   -1.62220\n",
      "\n",
      "[360 rows x 4 columns]\n",
      "[[ 2.2855  -0.29516 -3.0362  -4.5184 ]\n",
      " [ 0.85457 -2.6338  -4.5223  -1.9025 ]\n",
      " [-0.26151 -3.0811  -4.7146   0.47887]\n",
      " ...\n",
      " [-1.6229  -3.4713  -2.5944  -4.2907 ]\n",
      " [-1.3188  -3.1588  -2.6105  -3.5652 ]\n",
      " [-0.51186 -2.7217  -2.4909  -1.6222 ]]\n"
     ]
    }
   ],
   "source": [
    "dlpfc1 = data['DLPFC1'].flatten()\n",
    "dlpfc2 = data['DLPFC2'].flatten()\n",
    "parietal1 = data['Parietal1'].flatten()\n",
    "parietal2 = data['Parietal2'].flatten()\n",
    "\n",
    "X = np.column_stack([dlpfc1, dlpfc2, parietal1, parietal2])\n",
    "\n",
    "var_data = pd.DataFrame(X, columns=['DLPFC1', 'DLPFC2', 'Parietal1', 'Parietal2'])\n",
    "print(var_data)\n",
    "var_data = var_data.to_numpy()\n",
    "print(var_data)"
   ]
  },
  {
   "cell_type": "code",
   "execution_count": 20,
   "metadata": {},
   "outputs": [],
   "source": [
    "class regVAR:\n",
    "    def __init__(self, data):\n",
    "        self.data = data\n",
    "\n",
    "    def regress(self):\n",
    "        X = self.data[:-1]\n",
    "        y = self.data[1:]\n",
    "        model = LinearRegression(fit_intercept=True).fit(X,y)\n",
    "        A = model.coef_.T  # Transpose to match VAR convention\n",
    "        intercept = model.intercept_\n",
    "\n",
    "        return A, intercept\n"
   ]
  },
  {
   "cell_type": "code",
   "execution_count": 21,
   "metadata": {},
   "outputs": [
    {
     "name": "stdout",
     "output_type": "stream",
     "text": [
      "coeff matrix A : \n",
      "[[ 0.90668653  0.00975233 -0.01223154  0.15398133]\n",
      " [-0.02035257  0.89853182  0.04526295 -0.0979815 ]\n",
      " [ 0.01568962 -0.00518382  0.87266454  0.01444375]\n",
      " [-0.03375742 -0.00724422  0.00158463  0.93634082]]\n",
      "a0 vector : \n",
      "[ 0.0024904  -0.00690006  0.00287008  0.03277537]\n"
     ]
    }
   ],
   "source": [
    "test = regVAR(var_data)\n",
    "A, intercept = test.regress()\n",
    "\n",
    "print('coeff matrix A : ')\n",
    "print(A)\n",
    "\n",
    "print('a0 vector : ')\n",
    "print(intercept)"
   ]
  },
  {
   "cell_type": "markdown",
   "metadata": {},
   "source": [
    "Var(1) is stationary Iff all eigenvalues of the coeffiecient matrix $|\\lambda| < 1$."
   ]
  },
  {
   "cell_type": "code",
   "execution_count": 38,
   "metadata": {},
   "outputs": [
    {
     "data": {
      "text/plain": [
       "True"
      ]
     },
     "execution_count": 38,
     "metadata": {},
     "output_type": "execute_result"
    }
   ],
   "source": [
    "max(abs(np.linalg.eigvals(A))) < 1"
   ]
  },
  {
   "cell_type": "markdown",
   "metadata": {},
   "source": [
    "Checking the max eigenvalue and confirming that it is less then 1, and thus the VAR model is stationary."
   ]
  },
  {
   "cell_type": "code",
   "execution_count": 24,
   "metadata": {},
   "outputs": [],
   "source": [
    "class VAR_model:\n",
    "    def __init__(self, coeff: list, init: np.ndarray, noise: str = 'normal', **kwargs):\n",
    "        # 1. COEFFICIENTS: From scalars to matrices/vectors -------------------------\n",
    "        # coeff = [intercept_vector, A1 (lag-1 matrix), A2 (lag-2 matrix), ...]\n",
    "        self.order = len(coeff) - 1\n",
    "        self.coeff = [np.array(c) for c in coeff]  # Convert all to arrays\n",
    "        self.n_vars = self.coeff[1].shape[0]       # Number of variables (e.g., 4)\n",
    "\n",
    "        # 2. INITIALIZATION: Now a 2D array (lagged values for all variables) -------\n",
    "        # init shape = (order, n_vars), e.g., (2, 4) for VAR(2) with 4 regions\n",
    "        self.init = np.array(init)\n",
    "        self.xn_temp = self.init.copy()  # Stores full time series history\n",
    "        self.xn = None\n",
    "\n",
    "        # 3. NOISE: Now multivariate (e.g., multivariate normal) --------------------\n",
    "        self.noise = noise\n",
    "        self.config = kwargs  # Should include 'mean' (vector) and 'cov' (matrix)\n",
    "\n",
    "\n",
    "    def __call__(self, length: int):\n",
    "        # 4. OUTPUT: 2D array (time × variables) ------------------------------------\n",
    "        xt_arr = np.zeros((length, self.n_vars))\n",
    "\n",
    "        if self.noise == 'normal':\n",
    "            mean = self.config.get('mean', np.zeros(self.n_vars))\n",
    "            cov = self.config.get('cov', np.eye(self.n_vars))\n",
    "\n",
    "            for i in range(length):\n",
    "                # 5. LAGGED TERMS: Matrix multiplications instead of scalars -------\n",
    "                lagged_terms = np.zeros(self.n_vars)\n",
    "                for lag in range(1, self.order + 1):\n",
    "                    A_lag = self.coeff[lag]  # Coefficient matrix for this lag\n",
    "                    lagged_vector = self.xn_temp[-lag, :]  # Get lagged values\n",
    "                    lagged_terms += A_lag @ lagged_vector  # Matrix-vector multiply\n",
    "\n",
    "                # 6. INTERCEPT: Now a vector instead of scalar ----------------------\n",
    "                noise = np.random.multivariate_normal(mean, cov)\n",
    "                xt = self.coeff[0] + lagged_terms + noise\n",
    "\n",
    "                # Update history\n",
    "                xt_arr[i, :] = xt\n",
    "                self.xn_temp = np.vstack((self.xn_temp, xt))\n",
    "\n",
    "            # Append to full history\n",
    "            if self.xn is not None:\n",
    "                self.xn = np.vstack((self.xn, xt_arr))\n",
    "            else:\n",
    "                self.xn = xt_arr\n",
    "\n",
    "            return xt_arr"
   ]
  }
 ],
 "metadata": {
  "kernelspec": {
   "display_name": "3dcv-students",
   "language": "python",
   "name": "python3"
  },
  "language_info": {
   "codemirror_mode": {
    "name": "ipython",
    "version": 3
   },
   "file_extension": ".py",
   "mimetype": "text/x-python",
   "name": "python",
   "nbconvert_exporter": "python",
   "pygments_lexer": "ipython3",
   "version": "3.10.15"
  }
 },
 "nbformat": 4,
 "nbformat_minor": 2
}
